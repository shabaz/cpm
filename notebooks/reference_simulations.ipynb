{
 "cells": [
  {
   "cell_type": "code",
   "execution_count": 1,
   "metadata": {},
   "outputs": [],
   "source": [
    "import cpm\n",
    "import matplotlib.pyplot as plt\n",
    "import random\n",
    "import time\n",
    "import pandas as pd\n",
    "import numpy as np"
   ]
  },
  {
   "cell_type": "markdown",
   "metadata": {},
   "source": [
    "## Sorting Simulations"
   ]
  },
  {
   "cell_type": "code",
   "execution_count": 3,
   "metadata": {},
   "outputs": [],
   "source": [
    "def create_sorting_simulation(dimension):\n",
    "    number_of_types = 3\n",
    "    temperature = 10\n",
    "    \n",
    "    simulation = cpm.Cpm(dimension, number_of_types, temperature)\n",
    "    \n",
    "    simulation.set_constraints(cell_type = 1, lambda_area = 20, target_area = 40)\n",
    "    simulation.set_constraints(cell_type = 1, other_cell_type = 1, adhesion = 14)\n",
    "    simulation.set_constraints(cell_type = 0, other_cell_type = 1, adhesion = 16)\n",
    "    \n",
    "    simulation.set_constraints(cell_type = 2, lambda_area = 20, target_area = 40)\n",
    "    simulation.set_constraints(cell_type = 2, other_cell_type = 2, adhesion = 2)\n",
    "    simulation.set_constraints(cell_type = 2, other_cell_type = 1, adhesion = 11)\n",
    "    simulation.set_constraints(cell_type = 2, other_cell_type = 0, adhesion = 16)\n",
    "\n",
    "    radius = dimension/3 / 2\n",
    "    center = dimension/2\n",
    "\n",
    "    cellPerType = (dimension//256)*(dimension//256) * 500 // 4\n",
    "\n",
    "    state = simulation.get_state()\n",
    "    for t in [1,2]:\n",
    "        for i in range(cellPerType):\n",
    "            while True:\n",
    "                x = random.randint(0,dimension-1)\n",
    "                y = random.randint(0,dimension-1)\n",
    "                distance_squared = (x-center)**2 + (y-center)**2\n",
    "                if distance_squared < radius**2 and state[x,y] == 0:\n",
    "                    simulation.add_cell(x,y,t)\n",
    "                    break\n",
    "    return simulation"
   ]
  },
  {
   "cell_type": "code",
   "execution_count": 21,
   "metadata": {},
   "outputs": [],
   "source": [
    "sim = create_sorting_simulation(512)"
   ]
  },
  {
   "cell_type": "code",
   "execution_count": 22,
   "metadata": {},
   "outputs": [],
   "source": [
    "state = sim.get_state()"
   ]
  },
  {
   "cell_type": "code",
   "execution_count": 23,
   "metadata": {},
   "outputs": [],
   "source": [
    "burnin = 30\n",
    "sim.run(burnin)\n",
    "sim.set_constraints(cell_type = 1, lambda_area = 1, target_area = 40)\n",
    "sim.set_constraints(cell_type = 2, lambda_area = 1, target_area = 40)"
   ]
  },
  {
   "cell_type": "code",
   "execution_count": null,
   "metadata": {},
   "outputs": [],
   "source": [
    "offsets = [[-1, -1], [-1, 0], [-1, 1], [0,-1], [0, 1], [1, -1], [1, 0], [1, 1]]\n",
    "def (ids, types):\n",
    "    i,t = ids, types\n",
    "    hetrogenous_border = 0\n",
    "    light_border = 0\n",
    "    dark_border = 0\n",
    "    light_outer = 0\n",
    "    dark_outer = 0\n",
    "\n",
    "    for offset in offsets:\n",
    "        shifted_ids = np.roll(i, offset, (0,1))\n",
    "        shifted_type = np.roll(t, offset, (0,1))\n",
    "\n",
    "        hetrogenous_border += np.sum(np.logical_and(t == 2, shifted_type == 1))\n",
    "        hetrogenous_border += np.sum(np.logical_and(t == 1, shifted_type == 2))\n",
    "\n",
    "        mask = i != shifted_ids\n",
    "        light_border += np.sum(np.logical_and(t[mask] == 1, shifted_type[mask] == 1))\n",
    "        dark_border += np.sum(np.logical_and(t[mask] == 2, shifted_type[mask] == 2))\n",
    "\n",
    "        light_outer += np.sum(np.logical_and(t == 1, shifted_type == 0))\n",
    "        light_outer += np.sum(np.logical_and(t == 0, shifted_type == 1))\n",
    "\n",
    "        dark_outer += np.sum(np.logical_and(t == 2, shifted_type == 0))\n",
    "        dark_outer += np.sum(np.logical_and(t == 0, shifted_type == 2))\n",
    "    total_border = hetrogenous_border + light_border + dark_border + light_outer + dark_outer\n",
    "    dl_border = hetrogenous_border/float(total_border)\n",
    "    l_border = light_border/float(total_border)\n",
    "    d_border= dark_border/float(total_border)\n",
    "    return dl_border, l_border, d_border"
   ]
  },
  {
   "cell_type": "code",
   "execution_count": null,
   "metadata": {},
   "outputs": [],
   "source": [
    "timecodes = []\n",
    "for i in range(1000000):\n",
    "    if (i % 1 == 0 and i < 200) or (i%10 == 0 and i < 2000) or (i%100 == 0 and i < 20000) or (i %1000 == 0):\n",
    "        timecodes.append(i)"
   ]
  },
  {
   "cell_type": "code",
   "execution_count": null,
   "metadata": {},
   "outputs": [],
   "source": [
    "last = None\n",
    "for i in timecodes:\n",
    "    if last:\n",
    "        steps = i - last\n",
    "        sim.run(steps)"
   ]
  },
  {
   "cell_type": "code",
   "execution_count": 17,
   "metadata": {},
   "outputs": [
    {
     "data": {
      "text/plain": [
       "<matplotlib.image.AxesImage at 0x11c51e3d0>"
      ]
     },
     "execution_count": 17,
     "metadata": {},
     "output_type": "execute_result"
    },
    {
     "data": {
      "image/png": "[encoded data removed]",
      "text/plain": [
       "<Figure size 720x720 with 1 Axes>"
      ]
     },
     "metadata": {
      "needs_background": "light"
     },
     "output_type": "display_data"
    }
   ],
   "source": [
    "plt.figure(figsize=(10,10))\n",
    "plt.imshow(state)"
   ]
  },
  {
   "cell_type": "code",
   "execution_count": 20,
   "metadata": {},
   "outputs": [
    {
     "data": {
      "text/plain": [
       "<matplotlib.image.AxesImage at 0x10f0577d0>"
      ]
     },
     "execution_count": 20,
     "metadata": {},
     "output_type": "execute_result"
    },
    {
     "data": {
      "image/png": "[encoded data removed]",
      "text/plain": [
       "<Figure size 720x720 with 1 Axes>"
      ]
     },
     "metadata": {
      "needs_background": "light"
     },
     "output_type": "display_data"
    }
   ],
   "source": [
    "plt.figure(figsize=(10,10))\n",
    "plt.imshow(state)"
   ]
  },
  {
   "cell_type": "markdown",
   "metadata": {},
   "source": [
    "# Sorting sim for performance"
   ]
  },
  {
   "cell_type": "code",
   "execution_count": 2,
   "metadata": {},
   "outputs": [],
   "source": [
    "def create_sorting_simulation(dimension, cell_fraction):\n",
    "    number_of_types = 3\n",
    "    temperature = 10\n",
    "    \n",
    "    simulation = cpm.Cpm(dimension, number_of_types, temperature)\n",
    "    \n",
    "    simulation.set_constraints(cell_type = 1, lambda_area = 20, target_area = 40)\n",
    "    simulation.set_constraints(cell_type = 1, other_cell_type = 1, adhesion = 14)\n",
    "    simulation.set_constraints(cell_type = 0, other_cell_type = 1, adhesion = 16)\n",
    "    \n",
    "    simulation.set_constraints(cell_type = 2, lambda_area = 20, target_area = 40)\n",
    "    simulation.set_constraints(cell_type = 2, other_cell_type = 2, adhesion = 2)\n",
    "    simulation.set_constraints(cell_type = 2, other_cell_type = 1, adhesion = 11)\n",
    "    simulation.set_constraints(cell_type = 2, other_cell_type = 0, adhesion = 16)\n",
    "\n",
    "    radius = dimension/3 / 2\n",
    "    center = dimension/2\n",
    "\n",
    "    cellPerType = int((dimension//128)**2 /4 * 860 * cell_fraction)\n",
    "\n",
    "    state = simulation.get_state()\n",
    "    for t in [1,2]:\n",
    "        for i in range(cellPerType):\n",
    "            while True:\n",
    "                x = random.randint(0,dimension-1)\n",
    "                y = random.randint(0,dimension-1)\n",
    "                if state[x,y] == 0:\n",
    "                    simulation.add_cell(x,y,t)\n",
    "                    break\n",
    "    return simulation"
   ]
  },
  {
   "cell_type": "code",
   "execution_count": null,
   "metadata": {},
   "outputs": [
    {
     "name": "stdout",
     "output_type": "stream",
     "text": [
      "2048\n"
     ]
    }
   ],
   "source": [
    "df = pd.DataFrame(columns=[\"time\", \"dimension\"])\n",
    "runs = 3\n",
    "for r in range(runs):\n",
    "    for i in range(4):\n",
    "        dimension = 128 * 2**i\n",
    "        print(dimension)\n",
    "        sim = create_sorting_simulation(dimension, 1.0)\n",
    "        start = time.time()\n",
    "        sim.run(1000)\n",
    "        end = time.time()\n",
    "        print(end - start)\n",
    "        df = df.append({'time':end-start, 'dimension': dimension}, ignore_index=True)"
   ]
  },
  {
   "cell_type": "code",
   "execution_count": 70,
   "metadata": {},
   "outputs": [
    {
     "data": {
      "text/html": [
       "<div>\n",
       "<style scoped>\n",
       "    .dataframe tbody tr th:only-of-type {\n",
       "        vertical-align: middle;\n",
       "    }\n",
       "\n",
       "    .dataframe tbody tr th {\n",
       "        vertical-align: top;\n",
       "    }\n",
       "\n",
       "    .dataframe thead th {\n",
       "        text-align: right;\n",
       "    }\n",
       "</style>\n",
       "<table border=\"1\" class=\"dataframe\">\n",
       "  <thead>\n",
       "    <tr style=\"text-align: right;\">\n",
       "      <th></th>\n",
       "      <th>time</th>\n",
       "      <th>dimension</th>\n",
       "    </tr>\n",
       "  </thead>\n",
       "  <tbody>\n",
       "    <tr>\n",
       "      <th>0</th>\n",
       "      <td>2.713897</td>\n",
       "      <td>128.0</td>\n",
       "    </tr>\n",
       "    <tr>\n",
       "      <th>1</th>\n",
       "      <td>11.346604</td>\n",
       "      <td>256.0</td>\n",
       "    </tr>\n",
       "    <tr>\n",
       "      <th>2</th>\n",
       "      <td>71.053515</td>\n",
       "      <td>512.0</td>\n",
       "    </tr>\n",
       "    <tr>\n",
       "      <th>3</th>\n",
       "      <td>448.317816</td>\n",
       "      <td>1024.0</td>\n",
       "    </tr>\n",
       "    <tr>\n",
       "      <th>4</th>\n",
       "      <td>2.303191</td>\n",
       "      <td>128.0</td>\n",
       "    </tr>\n",
       "    <tr>\n",
       "      <th>5</th>\n",
       "      <td>10.998744</td>\n",
       "      <td>256.0</td>\n",
       "    </tr>\n",
       "    <tr>\n",
       "      <th>6</th>\n",
       "      <td>88.475201</td>\n",
       "      <td>512.0</td>\n",
       "    </tr>\n",
       "    <tr>\n",
       "      <th>7</th>\n",
       "      <td>496.353148</td>\n",
       "      <td>1024.0</td>\n",
       "    </tr>\n",
       "    <tr>\n",
       "      <th>8</th>\n",
       "      <td>2.274506</td>\n",
       "      <td>128.0</td>\n",
       "    </tr>\n",
       "    <tr>\n",
       "      <th>9</th>\n",
       "      <td>10.317478</td>\n",
       "      <td>256.0</td>\n",
       "    </tr>\n",
       "    <tr>\n",
       "      <th>10</th>\n",
       "      <td>73.502042</td>\n",
       "      <td>512.0</td>\n",
       "    </tr>\n",
       "    <tr>\n",
       "      <th>11</th>\n",
       "      <td>474.105710</td>\n",
       "      <td>1024.0</td>\n",
       "    </tr>\n",
       "  </tbody>\n",
       "</table>\n",
       "</div>"
      ],
      "text/plain": [
       "          time  dimension\n",
       "0     2.713897      128.0\n",
       "1    11.346604      256.0\n",
       "2    71.053515      512.0\n",
       "3   448.317816     1024.0\n",
       "4     2.303191      128.0\n",
       "5    10.998744      256.0\n",
       "6    88.475201      512.0\n",
       "7   496.353148     1024.0\n",
       "8     2.274506      128.0\n",
       "9    10.317478      256.0\n",
       "10   73.502042      512.0\n",
       "11  474.105710     1024.0"
      ]
     },
     "execution_count": 70,
     "metadata": {},
     "output_type": "execute_result"
    }
   ],
   "source": [
    "df"
   ]
  },
  {
   "cell_type": "code",
   "execution_count": 75,
   "metadata": {},
   "outputs": [
    {
     "data": {
      "text/plain": [
       "<matplotlib.collections.PathCollection at 0x1152e7ed0>"
      ]
     },
     "execution_count": 75,
     "metadata": {},
     "output_type": "execute_result"
    },
    {
     "data": {
      "image/png": "[encoded data removed]",
      "text/plain": [
       "<Figure size 432x288 with 1 Axes>"
      ]
     },
     "metadata": {
      "needs_background": "light"
     },
     "output_type": "display_data"
    }
   ],
   "source": [
    "plt.scatter(np.log(df.dimension), np.log(df.time))"
   ]
  },
  {
   "cell_type": "code",
   "execution_count": 7,
   "metadata": {},
   "outputs": [
    {
     "name": "stdout",
     "output_type": "stream",
     "text": [
      "0.09637808799743652\n",
      "0.1217961311340332\n",
      "0.6166491508483887\n",
      "1.953326940536499\n",
      "7.172358751296997\n",
      "10.050351858139038\n"
     ]
    }
   ],
   "source": [
    "df = pd.DataFrame(columns=[\"time\", \"cell_fraction\"])\n",
    "runs = 3\n",
    "for r in range(runs):\n",
    "    for i in [0.005, 0.01, 0.05, 0.1, 0.5, 1.]:\n",
    "        dimension = 256\n",
    "        sim = create_sorting_simulation(dimension, i)\n",
    "        start = time.time()\n",
    "        sim.run(1000)\n",
    "        end = time.time()\n",
    "        print(end - start)\n",
    "        df = df.append({'time':end-start, 'cell_fraction': i, 'dimension': dimension}, ignore_index=True)"
   ]
  },
  {
   "cell_type": "code",
   "execution_count": 9,
   "metadata": {},
   "outputs": [
    {
     "data": {
      "text/plain": [
       "Text(0.5, 1.0, '256')"
      ]
     },
     "execution_count": 9,
     "metadata": {},
     "output_type": "execute_result"
    },
    {
     "data": {
      "image/png": "[encoded data removed]",
      "text/plain": [
       "<Figure size 432x288 with 1 Axes>"
      ]
     },
     "metadata": {
      "needs_background": "light"
     },
     "output_type": "display_data"
    }
   ],
   "source": [
    "plt.scatter(np.log(df.cell_fraction), np.log(df.time))\n",
    "plt.title(\"256\")"
   ]
  },
  {
   "cell_type": "code",
   "execution_count": null,
   "metadata": {},
   "outputs": [],
   "source": []
  }
 ],
 "metadata": {
  "kernelspec": {
   "display_name": "Python 3",
   "language": "python",
   "name": "python3"
  },
  "language_info": {
   "codemirror_mode": {
    "name": "ipython",
    "version": 3
   },
   "file_extension": ".py",
   "mimetype": "text/x-python",
   "name": "python",
   "nbconvert_exporter": "python",
   "pygments_lexer": "ipython3",
   "version": "3.7.6"
  }
 },
 "nbformat": 4,
 "nbformat_minor": 2
}
